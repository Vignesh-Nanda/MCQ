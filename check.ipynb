{
 "cells": [
  {
   "cell_type": "code",
   "execution_count": 1,
   "metadata": {},
   "outputs": [],
   "source": [
    "from flask import Flask, render_template, request\n",
    "import pandas as pd\n",
    "import random\n",
    "import os\n"
   ]
  },
  {
   "cell_type": "code",
   "execution_count": 2,
   "metadata": {},
   "outputs": [
    {
     "name": "stdout",
     "output_type": "stream",
     "text": [
      "aws_questions.csv\n"
     ]
    }
   ],
   "source": [
    "\n",
    "app = Flask(__name__)\n",
    "\n",
    "# Path to the CSV file\n",
    "csv_file_path = 'aws_questions.csv'\n",
    "print(csv_file_path)"
   ]
  },
  {
   "cell_type": "code",
   "execution_count": 3,
   "metadata": {},
   "outputs": [],
   "source": [
    "if not os.path.exists(csv_file_path):\n",
    "    raise FileNotFoundError(f\"The file {csv_file_path} does not exist. Please check the file path.\")\n"
   ]
  },
  {
   "cell_type": "code",
   "execution_count": 4,
   "metadata": {},
   "outputs": [
    {
     "name": "stdout",
     "output_type": "stream",
     "text": [
      "CSV file loaded successfully\n",
      "                                            question  \\\n",
      "0  AWS allows users to manage their resources usi...   \n",
      "1  Which of the following is an example of horizo...   \n",
      "2  You have noticed that several critical Amazon ...   \n",
      "3  Which of the below options are related to the ...   \n",
      "4  Which statement is true regarding the AWS Shar...   \n",
      "\n",
      "                                             option1  \\\n",
      "0                                           AWS CLI.   \n",
      "1  Replacing an existing EC2 instance with a larg...   \n",
      "2                                  Amazon Inspector.   \n",
      "3  Applying the principle of least privilege to a...   \n",
      "4  Responsibilities vary depending on the service...   \n",
      "\n",
      "                                             option2  \\\n",
      "0                                           AWS API.   \n",
      "1  Increasing the compute capacity of a single EC...   \n",
      "2                                    AWS CloudTrail.   \n",
      "3  Automatically provisioning new resources to me...   \n",
      "4  Security of the IaaS services is the responsib...   \n",
      "\n",
      "                                             option3  \\\n",
      "0                                           AWS SDK.   \n",
      "1       Adding more RAM capacity to an EC2 instance.   \n",
      "2                               AWS Trusted Advisor.   \n",
      "3  All AWS services are considered Global Service...   \n",
      "4  Patching the guest OS is always the responsibi...   \n",
      "\n",
      "                                             option4  \\\n",
      "0                            AWS Management Console.   \n",
      "1  Adding more EC2 instances of the same size to ...   \n",
      "2                         EC2 Instance Usage Report.   \n",
      "3  Providing compensation to customers if issues ...   \n",
      "4  Security of the managed services is the respon...   \n",
      "\n",
      "                                     option5 correct_answer  \n",
      "0                                        NaN              D  \n",
      "1                                        NaN              D  \n",
      "2                                        NaN              B  \n",
      "3  Ability to recover quickly from failures.            B E  \n",
      "4                                        NaN              A  \n"
     ]
    }
   ],
   "source": [
    "try:\n",
    "    questions_df = pd.read_csv(csv_file_path)\n",
    "    print(\"CSV file loaded successfully\")\n",
    "    print(questions_df.head())  # Debugging: print the first few rows of the dataframe\n",
    "except Exception as e:\n",
    "    raise Exception(f\"Error reading the CSV file: {e}\")\n"
   ]
  },
  {
   "cell_type": "code",
   "execution_count": 5,
   "metadata": {},
   "outputs": [],
   "source": [
    "\n",
    "asked_questions = set()"
   ]
  },
  {
   "cell_type": "code",
   "execution_count": 7,
   "metadata": {},
   "outputs": [],
   "source": [
    "\n",
    "def get_random_questions():\n",
    "    global asked_questions\n",
    "    available_questions = questions_df[~questions_df['question'].isin(asked_questions)]\n",
    "    if len(available_questions) < 30:\n",
    "        raise ValueError(\"Not enough questions left to generate a new set.\")\n",
    "    random_questions = available_questions.sample(30)\n",
    "    asked_questions.update(random_questions['question'].tolist())\n",
    "    return random_questions\n",
    "\n"
   ]
  },
  {
   "cell_type": "code",
   "execution_count": 8,
   "metadata": {},
   "outputs": [],
   "source": [
    "\n",
    "@app.route('/')\n",
    "def index():\n",
    "    try:\n",
    "        questions = get_random_questions()\n",
    "        print(\"Questions selected for the quiz\")\n",
    "        print(questions.head())  # Debugging: print the selected questions\n",
    "        return render_template('quiz.html', questions=questions.iterrows())\n",
    "    except Exception as e:\n",
    "        return str(e)"
   ]
  },
  {
   "cell_type": "code",
   "execution_count": null,
   "metadata": {},
   "outputs": [],
   "source": []
  }
 ],
 "metadata": {
  "kernelspec": {
   "display_name": "Machinelearning",
   "language": "python",
   "name": "python3"
  },
  "language_info": {
   "codemirror_mode": {
    "name": "ipython",
    "version": 3
   },
   "file_extension": ".py",
   "mimetype": "text/x-python",
   "name": "python",
   "nbconvert_exporter": "python",
   "pygments_lexer": "ipython3",
   "version": "3.9.16"
  }
 },
 "nbformat": 4,
 "nbformat_minor": 2
}
